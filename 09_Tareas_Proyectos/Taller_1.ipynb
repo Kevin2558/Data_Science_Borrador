{
  "cells": [
    {
      "cell_type": "markdown",
      "metadata": {
        "colab_type": "text",
        "id": "view-in-github"
      },
      "source": [
        "<a href=\"https://colab.research.google.com/github/Kevin2558/Taller-1/blob/main/Taller_1.ipynb\" target=\"_parent\"><img src=\"https://colab.research.google.com/assets/colab-badge.svg\" alt=\"Open In Colab\"/></a>"
      ]
    },
    {
      "cell_type": "code",
      "execution_count": 12,
      "metadata": {
        "colab": {
          "base_uri": "https://localhost:8080/"
        },
        "collapsed": true,
        "id": "154lbi3bfzad",
        "outputId": "969f0333-a4bd-465b-dba4-e8756ce3e5e2"
      },
      "outputs": [
        {
          "name": "stdout",
          "output_type": "stream",
          "text": [
            "   PassengerId  Survived  Pclass  \\\n",
            "0            1         0       3   \n",
            "1            2         1       1   \n",
            "2            3         1       3   \n",
            "3            4         1       1   \n",
            "4            5         0       3   \n",
            "\n",
            "                                                Name     Sex   Age  SibSp  \\\n",
            "0                            Braund, Mr. Owen Harris    male  22.0      1   \n",
            "1  Cumings, Mrs. John Bradley (Florence Briggs Th...  female  38.0      1   \n",
            "2                             Heikkinen, Miss. Laina  female  26.0      0   \n",
            "3       Futrelle, Mrs. Jacques Heath (Lily May Peel)  female  35.0      1   \n",
            "4                           Allen, Mr. William Henry    male  35.0      0   \n",
            "\n",
            "   Parch            Ticket     Fare Cabin Embarked  \n",
            "0      0         A/5 21171   7.2500   NaN        S  \n",
            "1      0          PC 17599  71.2833   C85        C  \n",
            "2      0  STON/O2. 3101282   7.9250   NaN        S  \n",
            "3      0            113803  53.1000  C123        S  \n",
            "4      0            373450   8.0500   NaN        S  \n",
            "<class 'pandas.core.frame.DataFrame'>\n",
            "RangeIndex: 891 entries, 0 to 890\n",
            "Data columns (total 12 columns):\n",
            " #   Column       Non-Null Count  Dtype  \n",
            "---  ------       --------------  -----  \n",
            " 0   PassengerId  891 non-null    int64  \n",
            " 1   Survived     891 non-null    int64  \n",
            " 2   Pclass       891 non-null    int64  \n",
            " 3   Name         891 non-null    object \n",
            " 4   Sex          891 non-null    object \n",
            " 5   Age          714 non-null    float64\n",
            " 6   SibSp        891 non-null    int64  \n",
            " 7   Parch        891 non-null    int64  \n",
            " 8   Ticket       891 non-null    object \n",
            " 9   Fare         891 non-null    float64\n",
            " 10  Cabin        204 non-null    object \n",
            " 11  Embarked     889 non-null    object \n",
            "dtypes: float64(2), int64(5), object(5)\n",
            "memory usage: 83.7+ KB\n",
            "None\n",
            "       PassengerId    Survived      Pclass         Age       SibSp  \\\n",
            "count   891.000000  891.000000  891.000000  714.000000  891.000000   \n",
            "mean    446.000000    0.383838    2.308642   29.699118    0.523008   \n",
            "std     257.353842    0.486592    0.836071   14.526497    1.102743   \n",
            "min       1.000000    0.000000    1.000000    0.420000    0.000000   \n",
            "25%     223.500000    0.000000    2.000000   20.125000    0.000000   \n",
            "50%     446.000000    0.000000    3.000000   28.000000    0.000000   \n",
            "75%     668.500000    1.000000    3.000000   38.000000    1.000000   \n",
            "max     891.000000    1.000000    3.000000   80.000000    8.000000   \n",
            "\n",
            "            Parch        Fare  \n",
            "count  891.000000  891.000000  \n",
            "mean     0.381594   32.204208  \n",
            "std      0.806057   49.693429  \n",
            "min      0.000000    0.000000  \n",
            "25%      0.000000    7.910400  \n",
            "50%      0.000000   14.454200  \n",
            "75%      0.000000   31.000000  \n",
            "max      6.000000  512.329200  \n",
            "Index(['PassengerId', 'Survived', 'Pclass', 'Name', 'Sex', 'Age', 'SibSp',\n",
            "       'Parch', 'Ticket', 'Fare', 'Cabin', 'Embarked'],\n",
            "      dtype='object')\n"
          ]
        }
      ],
      "source": [
        "import pandas as pd\n",
        "\n",
        "import numpy as np\n",
        "\n",
        "import matplotlib.pyplot as plt\n",
        "\n",
        "data = pd.read_csv(\"Titanic-Dataset.csv\") # Subir el dataset.\n",
        "\n",
        "df = pd.DataFrame(data) # Transformar el dataset en un dataframe.\n",
        "\n",
        "# Ejercicio 1\n",
        "\n",
        "print(df.head()) # Observar las primeras 5 filas del dataframe\n",
        "\n",
        "print(df.info()) # Entrega la información a nivel matricial del dataframe y del\n",
        "                 # tipo de sus elementos.\n",
        "\n",
        "print(df.describe()) # Describe el dataframe a través de índices estadísticos.\n"
      ]
    },
    {
      "cell_type": "code",
      "execution_count": 16,
      "metadata": {
        "colab": {
          "base_uri": "https://localhost:8080/"
        },
        "id": "Qe6JA1iykWVM",
        "outputId": "343f189a-85d8-40ff-d046-94c3adea07f3"
      },
      "outputs": [
        {
          "name": "stdout",
          "output_type": "stream",
          "text": [
            "Index(['PassengerId', 'Survived', 'Pclass', 'Name', 'Sex', 'Age', 'SibSp',\n",
            "       'Parch', 'Ticket', 'Fare', 'Cabin', 'Embarked'],\n",
            "      dtype='object')\n",
            "PassengerId      int64\n",
            "Survived         int64\n",
            "Pclass           int64\n",
            "Name            object\n",
            "Sex             object\n",
            "Age            float64\n",
            "SibSp            int64\n",
            "Parch            int64\n",
            "Ticket          object\n",
            "Fare           float64\n",
            "Cabin           object\n",
            "Embarked        object\n",
            "dtype: object\n"
          ]
        }
      ],
      "source": [
        "# Ejercicio 2\n",
        "\n",
        "print(df.columns) # Entrega el nombre de las columnas.\n",
        "\n",
        "print(df.dtypes) # Entrega el tipo de dato por columna.\n",
        "\n",
        "# PassengerID : Rut del pasajero\n",
        "# Survived: Supervivencia\n",
        "# Pclass: Clase socioecónomica\n",
        "# Name: Nombre pasajero\n",
        "# Sex: Sexo pasajero\n",
        "# Age: Edad pasajero\n",
        "# SibSp: Número de hermanos/cónyugues a bordo\n",
        "# Parch: Número de hijos/padres a bordo\n",
        "# Ticket: ID del ticket\n",
        "# Fare: El precio pagado\n",
        "# Cabin: Número de cabina al cual abordó\n",
        "# Embarked: Lugar donde abordó"
      ]
    },
    {
      "cell_type": "code",
      "execution_count": 31,
      "metadata": {
        "colab": {
          "base_uri": "https://localhost:8080/"
        },
        "id": "76NJHUEKnMjk",
        "outputId": "3fec6dc0-90aa-465f-a9af-55c40cf624ea"
      },
      "outputs": [
        {
          "name": "stdout",
          "output_type": "stream",
          "text": [
            "PassengerId    446.000000\n",
            "Survived         0.383838\n",
            "Pclass           2.308642\n",
            "Age             29.699118\n",
            "SibSp            0.523008\n",
            "Parch            0.381594\n",
            "Fare            32.204208\n",
            "dtype: float64\n",
            "\n",
            "PassengerId    446.0000\n",
            "Survived         0.0000\n",
            "Pclass           3.0000\n",
            "Age             28.0000\n",
            "SibSp            0.0000\n",
            "Parch            0.0000\n",
            "Fare            14.4542\n",
            "dtype: float64\n",
            "\n",
            "PassengerId    890.0000\n",
            "Survived         1.0000\n",
            "Pclass           2.0000\n",
            "Age             79.5800\n",
            "SibSp            8.0000\n",
            "Parch            6.0000\n",
            "Fare           512.3292\n",
            "dtype: float64\n",
            "\n",
            "PassengerId    66231.000000\n",
            "Survived           0.236772\n",
            "Pclass             0.699015\n",
            "Age              211.019125\n",
            "SibSp              1.216043\n",
            "Parch              0.649728\n",
            "Fare            2469.436846\n",
            "dtype: float64\n",
            "\n",
            "PassengerId    257.353842\n",
            "Survived         0.486592\n",
            "Pclass           0.836071\n",
            "Age             14.526497\n",
            "SibSp            1.102743\n",
            "Parch            0.806057\n",
            "Fare            49.693429\n",
            "dtype: float64\n",
            "\n",
            "PassengerId    891\n",
            "Survived         2\n",
            "Pclass           3\n",
            "Name           891\n",
            "Sex              2\n",
            "Age             88\n",
            "SibSp            7\n",
            "Parch            7\n",
            "Ticket         681\n",
            "Fare           248\n",
            "Cabin          147\n",
            "Embarked         3\n",
            "dtype: int64\n"
          ]
        }
      ],
      "source": [
        "# Ejercicio 3\n",
        "\n",
        "print(df.mean(numeric_only=True)) # Calcula el media solo de columnas numéricas.\n",
        "print(\"\")\n",
        "print(df.median(numeric_only=True)) # Calcula la mediana.\n",
        "print(\"\")\n",
        "rango = df.max(numeric_only=True) - df.min(numeric_only=True) # Calcula el rango.\n",
        "print(rango)\n",
        "print(\"\")\n",
        "print(df.var(numeric_only=True)) # Calcula la varianza.\n",
        "print(\"\")\n",
        "print(df.std(numeric_only=True)) # Calcula la desviación estándar.\n",
        "print(\"\")\n",
        "\n",
        "###############################################################################\n",
        "\n",
        "print(df.nunique()) # Entrega la cantidad de elementos únicos por columna."
      ]
    },
    {
      "cell_type": "code",
      "execution_count": null,
      "metadata": {
        "colab": {
          "base_uri": "https://localhost:8080/"
        },
        "id": "2uvVgpJqrr6P",
        "outputId": "1b9f8e3a-b6eb-42cb-9df9-a3d9607f25f6"
      },
      "outputs": [
        {
          "name": "stdout",
          "output_type": "stream",
          "text": [
            "PassengerId      0\n",
            "Survived         0\n",
            "Pclass           0\n",
            "Name             0\n",
            "Sex              0\n",
            "Age            177\n",
            "SibSp            0\n",
            "Parch            0\n",
            "Ticket           0\n",
            "Fare             0\n",
            "Cabin          687\n",
            "Embarked         2\n",
            "dtype: int64\n",
            "\n",
            "Cabin\n"
          ]
        }
      ],
      "source": [
        "# Ejercicio 4\n",
        "\n",
        "nulos = df.isnull().sum()\n",
        "print(nulos) # Entrega la cantidad de valores nulos por columna.\n",
        "print(\"\")\n",
        "print(nulos.idxmax()) # Entrega el nombre de la columna que posee mas valores\n",
        "                      # nulos.\n",
        "\n"
      ]
    },
    {
      "cell_type": "code",
      "execution_count": null,
      "metadata": {},
      "outputs": [],
      "source": []
    }
  ],
  "metadata": {
    "colab": {
      "authorship_tag": "ABX9TyOszyK2kGDVVZ8oj8FRXLgh",
      "include_colab_link": true,
      "provenance": []
    },
    "kernelspec": {
      "display_name": "Python 3",
      "name": "python3"
    },
    "language_info": {
      "name": "python",
      "version": "3.9.6"
    }
  },
  "nbformat": 4,
  "nbformat_minor": 0
}
