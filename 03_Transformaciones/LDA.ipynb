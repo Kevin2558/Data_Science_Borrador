{
 "cells": [
  {
   "cell_type": "markdown",
   "id": "491a7e22",
   "metadata": {},
   "source": [
    "<a href=\"https://colab.research.google.com/github/Kevin2558/Data_Science/blob/main/LDA.ipynb\" target=\"_parent\"><img src=\"https://colab.research.google.com/assets/colab-badge.svg\" alt=\"Open In Colab\"/></a>"
   ]
  },
  {
   "cell_type": "code",
   "execution_count": null,
   "id": "2a5046f2",
   "metadata": {},
   "outputs": [],
   "source": [
    "# LDA aplicado al dataset de dígitos\n",
    "import matplotlib.pyplot as plt\n",
    "from sklearn.discriminant_analysis import LinearDiscriminantAnalysis\n",
    "from sklearn.datasets import load_digits\n",
    "from sklearn.preprocessing import StandardScaler\n",
    "\n",
    "# Cargamos los datos\n",
    "digits = load_digits()\n",
    "X = digits.data\n",
    "y = digits.target\n",
    "\n",
    "# Estandarizamos las variables\n",
    "scaler = StandardScaler()\n",
    "X_scaled = scaler.fit_transform(X)\n",
    "\n",
    "# Aplicamos LDA\n",
    "lda = LinearDiscriminantAnalysis(n_components=2)\n",
    "X_lda = lda.fit_transform(X_scaled, y)"
   ]
  },
  {
   "cell_type": "code",
   "execution_count": null,
   "id": "bc3c9122",
   "metadata": {},
   "outputs": [],
   "source": [
    "# Visualizamos los datos proyectados\n",
    "plt.figure(figsize=(8,6))\n",
    "scatter = plt.scatter(X_lda[:, 0], X_lda[:, 1], c=y, cmap='tab10', alpha=0.7)\n",
    "plt.legend(*scatter.legend_elements(), title=\"Dígitos\")\n",
    "plt.title(\"Proyección con LDA\")\n",
    "plt.xlabel(\"Componente 1\")\n",
    "plt.ylabel(\"Componente 2\")\n",
    "plt.grid(True)\n",
    "plt.show()"
   ]
  }
 ],
 "metadata": {},
 "nbformat": 4,
 "nbformat_minor": 5
}
