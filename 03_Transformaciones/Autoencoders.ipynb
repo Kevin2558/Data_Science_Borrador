{
  "nbformat": 4,
  "nbformat_minor": 0,
  "metadata": {
    "colab": {
      "provenance": [],
      "authorship_tag": "ABX9TyOS9jjfDnmQIfE8U68gW1as",
      "include_colab_link": true
    },
    "kernelspec": {
      "name": "python3",
      "display_name": "Python 3"
    },
    "language_info": {
      "name": "python"
    }
  },
  "cells": [
    {
      "cell_type": "markdown",
      "metadata": {
        "id": "view-in-github",
        "colab_type": "text"
      },
      "source": [
        "<a href=\"https://colab.research.google.com/github/Kevin2558/Data_Science/blob/main/03_Transformaciones/Autoencoders.ipynb\" target=\"_parent\"><img src=\"https://colab.research.google.com/assets/colab-badge.svg\" alt=\"Open In Colab\"/></a>"
      ]
    },
    {
      "cell_type": "code",
      "execution_count": 1,
      "metadata": {
        "id": "ompXcWjLnOrh"
      },
      "outputs": [],
      "source": [
        "# Autoencoders\n",
        "\n",
        "# Como funciona:\n",
        "\n",
        "# Es un tipo de agrupacion similar a PCA, que lo que hace es reducir la\n",
        "# dimensionalidad. Tiene la ventaja que se puede decodificar y volver a los\n",
        "# datos originales y de que puede capturar relaciones no lineales. Autoencoders\n",
        "# son redes neuronales entrenadas para reconstruir sus entradas. Aprenden una\n",
        "# representacion comprimida (latente).\n",
        "\n",
        "# Su estrutura viene dada por:\n",
        "\n",
        "# Encoder: Proyecta a espacio latente (reducir la dimensionalidad)\n",
        "# Decoder: Reconstruye la entrada original desde el espacio latente\n",
        "\n",
        "# Elige los pesos de la red neuronal a través de minimizar el error que ocurre\n",
        "# en la reconstruccion de los datos.\n",
        "\n",
        "# Aunque este no es un proceso supervisado, cuando se construye la red hay un\n",
        "# entrenamiento para encontrar los pesos y armar los encoders y decoders.\n",
        "\n",
        "# Tipos de autoencoders:\n",
        "\n",
        "# Clasico: Capas totalmente conectadas, activaciones no lineales.\n",
        "# Convolucional: Usa convoluciones, ideal para imagenes.\n",
        "# Denoising: Entrena para reconstruir desde entradas corruptas\n",
        "\n",
        "# encoding_dim Dimension del espacio latente\n",
        "# acivation Funciones de activacion\n",
        "# loss Metrica de reconstruccion\n",
        "# optimizer Algoritmo de optimizacion\n",
        "# epochs Numero de epocas de entrenamiento"
      ]
    },
    {
      "cell_type": "code",
      "source": [
        "import numpy as np\n",
        "import matplotlib.pyplot as plt\n",
        "from sklearn.datasets import load_wine\n",
        "from sklearn.preprocessing import StandardScaler\n",
        "from sklearn.model_selection import train_test_split\n",
        "from sklearn.cluster import KMeans\n",
        "from tensorflow.keras.models import Model\n",
        "from tensorflow.keras.layers import Input, Dense\n",
        "from tensorflow.keras.optimizers import Adam\n",
        "from tensorflow.keras.losses import MeanSquaredError"
      ],
      "metadata": {
        "id": "DdBrc2Gopwp6"
      },
      "execution_count": 2,
      "outputs": []
    },
    {
      "cell_type": "code",
      "source": [
        "wine = load_wine()\n",
        "X = wine.data\n",
        "y = wine.target"
      ],
      "metadata": {
        "id": "v4XkagmGrGd2"
      },
      "execution_count": 3,
      "outputs": []
    },
    {
      "cell_type": "code",
      "source": [
        "# Preprocesamiento\n",
        "X_scaled = StandardScaler().fit_transform(X)"
      ],
      "metadata": {
        "id": "4nXgdNq9rT3j"
      },
      "execution_count": 5,
      "outputs": []
    },
    {
      "cell_type": "code",
      "source": [
        "X_train, X_test = train_test_split(X_scaled, test_size=0.2, random_state=42)"
      ],
      "metadata": {
        "id": "I62cXhrhrOlL"
      },
      "execution_count": 6,
      "outputs": []
    },
    {
      "cell_type": "code",
      "source": [
        "X.shape"
      ],
      "metadata": {
        "colab": {
          "base_uri": "https://localhost:8080/"
        },
        "id": "WQIAG4iqsd8k",
        "outputId": "f8d01afb-d822-42ef-8741-ff694111159f"
      },
      "execution_count": 7,
      "outputs": [
        {
          "output_type": "execute_result",
          "data": {
            "text/plain": [
              "(178, 13)"
            ]
          },
          "metadata": {},
          "execution_count": 7
        }
      ]
    },
    {
      "cell_type": "code",
      "source": [
        "# Definir arquitectura del autoencoder\n",
        "input_dim = X.shape[1]\n",
        "encoding_dim = 2"
      ],
      "metadata": {
        "id": "uX4t-iVfrS5A"
      },
      "execution_count": 8,
      "outputs": []
    },
    {
      "cell_type": "code",
      "source": [
        "# Capa inicial\n",
        "input_layer = Input(shape=(input_dim,))\n",
        "# Primera capa de la red\n",
        "encoded = Dense(8, activation='relu')(input_layer)\n",
        "# Capa intermedia\n",
        "encoded = Dense(input_dim, activation='relu')(encoded)"
      ],
      "metadata": {
        "id": "bGBQfhJ9sjsN"
      },
      "execution_count": 11,
      "outputs": []
    },
    {
      "cell_type": "code",
      "source": [
        "# Primera capa de decomprension\n",
        "decoded = Dense(8, activation='relu')(encoded)\n",
        "# Capa final\n",
        "decoded = Dense(input_dim, activation='linear')(decoded)"
      ],
      "metadata": {
        "id": "aitUzNRHtKM8"
      },
      "execution_count": 13,
      "outputs": []
    },
    {
      "cell_type": "code",
      "source": [
        "# Modelo\n",
        "autoencoder = Model(inputs=input_layer, outputs=decoded)\n",
        "encoder = Model(inputs=input_layer, outputs=encoded)"
      ],
      "metadata": {
        "id": "KFXkeUMGtdOr"
      },
      "execution_count": 14,
      "outputs": []
    },
    {
      "cell_type": "code",
      "source": [
        "# Compilar y entrenar\n",
        "autoencoder.compile(optimizer=Adam(learning_rate=0.01), loss=MeanSquaredError())\n",
        "history = autoencoder.fit(X_train, X_train,\n",
        "                          validation_data=(X_test, X_test),\n",
        "                          epochs=100,\n",
        "                          batch_size=16,\n",
        "                          verbose=0)"
      ],
      "metadata": {
        "id": "PEpkcvY9txlp"
      },
      "execution_count": null,
      "outputs": []
    }
  ]
}