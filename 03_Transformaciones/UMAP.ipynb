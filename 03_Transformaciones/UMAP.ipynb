{
 "cells": [
  {
   "cell_type": "markdown",
   "id": "c47f7050",
   "metadata": {},
   "source": [
    "<a href=\"https://colab.research.google.com/github/Kevin2558/Data_Science/blob/main/UMAP.ipynb\" target=\"_parent\"><img src=\"https://colab.research.google.com/assets/colab-badge.svg\" alt=\"Open In Colab\"/></a>"
   ]
  },
  {
   "cell_type": "code",
   "execution_count": null,
   "id": "0963b2b8",
   "metadata": {},
   "outputs": [],
   "source": [
    "# UMAP aplicado al dataset de dígitos\n",
    "import matplotlib.pyplot as plt\n",
    "import umap.umap_ as umap\n",
    "from sklearn.datasets import load_digits\n",
    "from sklearn.preprocessing import StandardScaler\n",
    "\n",
    "# Cargamos los datos\n",
    "digits = load_digits()\n",
    "X = digits.data\n",
    "y = digits.target\n",
    "\n",
    "# Estandarizamos los datos\n",
    "scaler = StandardScaler()\n",
    "X_scaled = scaler.fit_transform(X)\n",
    "\n",
    "# Aplicamos UMAP\n",
    "reducer = umap.UMAP(n_components=2, random_state=42)\n",
    "X_umap = reducer.fit_transform(X_scaled)"
   ]
  },
  {
   "cell_type": "code",
   "execution_count": null,
   "id": "799f9925",
   "metadata": {},
   "outputs": [],
   "source": [
    "# Visualizamos los datos proyectados\n",
    "plt.figure(figsize=(8,6))\n",
    "scatter = plt.scatter(X_umap[:, 0], X_umap[:, 1], c=y, cmap='tab10', alpha=0.7)\n",
    "plt.legend(*scatter.legend_elements(), title=\"Dígitos\")\n",
    "plt.title(\"Proyección con UMAP\")\n",
    "plt.xlabel(\"Componente 1\")\n",
    "plt.ylabel(\"Componente 2\")\n",
    "plt.grid(True)\n",
    "plt.show()"
   ]
  }
 ],
 "metadata": {},
 "nbformat": 4,
 "nbformat_minor": 5
}
