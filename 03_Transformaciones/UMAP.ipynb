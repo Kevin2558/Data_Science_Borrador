# UMAP para reducción de dimensionalidad

```python
import umap
import seaborn as sns
from sklearn.datasets import load_iris
from sklearn.preprocessing import StandardScaler
import matplotlib.pyplot as plt

iris = load_iris()
X = StandardScaler().fit_transform(iris.data)
embedding = umap.UMAP().fit_transform(X)

plt.scatter(embedding[:, 0], embedding[:, 1], c=iris.target)
plt.title('UMAP Projection')
plt.show()
```