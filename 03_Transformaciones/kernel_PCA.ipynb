{
 "cells": [
  {
   "cell_type": "markdown",
   "id": "954a060e",
   "metadata": {},
   "source": [
    "<a href=\"https://colab.research.google.com/github/Kevin2558/Data_Science/blob/main/kernel_PCA.ipynb\" target=\"_parent\"><img src=\"https://colab.research.google.com/assets/colab-badge.svg\" alt=\"Open In Colab\"/></a>"
   ]
  },
  {
   "cell_type": "code",
   "execution_count": null,
   "id": "5241092c",
   "metadata": {},
   "outputs": [],
   "source": [
    "# Kernel PCA aplicado al dataset de dígitos\n",
    "import matplotlib.pyplot as plt\n",
    "from sklearn.decomposition import KernelPCA\n",
    "from sklearn.datasets import load_digits\n",
    "from sklearn.preprocessing import StandardScaler\n",
    "\n",
    "# Cargamos los datos\n",
    "digits = load_digits()\n",
    "X = digits.data\n",
    "y = digits.target\n",
    "\n",
    "# Estandarizamos las variables\n",
    "scaler = StandardScaler()\n",
    "X_scaled = scaler.fit_transform(X)\n",
    "\n",
    "# Aplicamos Kernel PCA con kernel RBF\n",
    "kpca = KernelPCA(n_components=2, kernel='rbf', gamma=0.04)\n",
    "X_kpca = kpca.fit_transform(X_scaled)"
   ]
  },
  {
   "cell_type": "code",
   "execution_count": null,
   "id": "bde8dc2e",
   "metadata": {},
   "outputs": [],
   "source": [
    "# Visualizamos los datos proyectados\n",
    "plt.figure(figsize=(8,6))\n",
    "scatter = plt.scatter(X_kpca[:, 0], X_kpca[:, 1], c=y, cmap='tab10', alpha=0.7)\n",
    "plt.legend(*scatter.legend_elements(), title=\"Dígitos\")\n",
    "plt.title(\"Proyección con Kernel PCA\")\n",
    "plt.xlabel(\"Componente 1\")\n",
    "plt.ylabel(\"Componente 2\")\n",
    "plt.grid(True)\n",
    "plt.show()"
   ]
  }
 ],
 "metadata": {},
 "nbformat": 4,
 "nbformat_minor": 5
}
