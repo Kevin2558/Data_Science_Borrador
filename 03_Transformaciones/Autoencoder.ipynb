{
 "cells": [
  {
   "cell_type": "markdown",
   "id": "7fba1aea",
   "metadata": {},
   "source": [
    "<a href=\"https://colab.research.google.com/github/Kevin2558/Data_Science/blob/main/Autoencoder.ipynb\" target=\"_parent\"><img src=\"https://colab.research.google.com/assets/colab-badge.svg\" alt=\"Open In Colab\"/></a>"
   ]
  },
  {
   "cell_type": "code",
   "execution_count": null,
   "id": "be249e99",
   "metadata": {},
   "outputs": [],
   "source": [
    "# Autoencoder aplicado al dataset de dígitos\n",
    "import matplotlib.pyplot as plt\n",
    "from sklearn.datasets import load_digits\n",
    "from sklearn.preprocessing import StandardScaler\n",
    "from tensorflow.keras.models import Model\n",
    "from tensorflow.keras.layers import Input, Dense\n",
    "from tensorflow.keras.optimizers import Adam\n",
    "import numpy as np\n",
    "\n",
    "# Cargamos y normalizamos los datos\n",
    "digits = load_digits()\n",
    "X = digits.data\n",
    "y = digits.target\n",
    "\n",
    "scaler = StandardScaler()\n",
    "X_scaled = scaler.fit_transform(X)\n",
    "\n",
    "# Definimos el autoencoder\n",
    "input_dim = X_scaled.shape[1]\n",
    "encoding_dim = 2\n",
    "input_layer = Input(shape=(input_dim,))\n",
    "encoded = Dense(32, activation='relu')(input_layer)\n",
    "bottleneck = Dense(encoding_dim, activation='linear')(encoded)\n",
    "decoded = Dense(32, activation='relu')(bottleneck)\n",
    "output_layer = Dense(input_dim, activation='linear')(decoded)\n",
    "\n",
    "autoencoder = Model(input_layer, output_layer)\n",
    "encoder = Model(input_layer, bottleneck)\n",
    "autoencoder.compile(optimizer=Adam(), loss='mse')\n",
    "autoencoder.fit(X_scaled, X_scaled, epochs=50, batch_size=64, verbose=0)"
   ]
  },
  {
   "cell_type": "code",
   "execution_count": null,
   "id": "518319a5",
   "metadata": {},
   "outputs": [],
   "source": [
    "# Proyectamos los datos al espacio latente\n",
    "X_encoded = encoder.predict(X_scaled)\n",
    "\n",
    "# Visualización\n",
    "plt.figure(figsize=(8,6))\n",
    "scatter = plt.scatter(X_encoded[:, 0], X_encoded[:, 1], c=y, cmap='tab10', alpha=0.7)\n",
    "plt.legend(*scatter.legend_elements(), title=\"Dígitos\")\n",
    "plt.title(\"Proyección con Autoencoder\")\n",
    "plt.xlabel(\"Latente 1\")\n",
    "plt.ylabel(\"Latente 2\")\n",
    "plt.grid(True)\n",
    "plt.show()"
   ]
  }
 ],
 "metadata": {},
 "nbformat": 4,
 "nbformat_minor": 5
}
