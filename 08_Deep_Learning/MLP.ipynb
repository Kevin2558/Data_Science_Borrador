{
  "nbformat": 4,
  "nbformat_minor": 0,
  "metadata": {
    "colab": {
      "provenance": [],
      "authorship_tag": "ABX9TyMGTmx0lr7paSs4W06ZoJ1b",
      "include_colab_link": true
    },
    "kernelspec": {
      "name": "python3",
      "display_name": "Python 3"
    },
    "language_info": {
      "name": "python"
    }
  },
  "cells": [
    {
      "cell_type": "markdown",
      "metadata": {
        "id": "view-in-github",
        "colab_type": "text"
      },
      "source": [
        "<a href=\"https://colab.research.google.com/github/Kevin2558/Data_Science/blob/main/08_Deep_Learning/MLP.ipynb\" target=\"_parent\"><img src=\"https://colab.research.google.com/assets/colab-badge.svg\" alt=\"Open In Colab\"/></a>"
      ]
    },
    {
      "cell_type": "code",
      "execution_count": null,
      "metadata": {
        "id": "NrbN4H4KjGL_"
      },
      "outputs": [],
      "source": [
        "# MLP Classifier\n",
        "\n",
        "# Concepto de red neuronal como un modelo inspirado en el cerebro humano.\n",
        "# MLP (Multilayer Perceptron) es una red de tipo feedforward, donde la\n",
        "# información fluye en una sola dirección.\n",
        "\n",
        "# Como funcionan las redes neuronales (estructura):\n",
        "\n",
        "# Capa de entrada: Recibe los datos numéricos (una neurona por feature)\n",
        "# Capas ocultas: Realizan transformaciones intermedias. Cada neurona toma como\n",
        "# entrada una combinación linear de las salidas anteriores y le aplica una\n",
        "# función de activación (por ejemplo ReLU, sigmoid, tanh).\n",
        "# capa de salida: Da la predicción, ya sea clase (clasificación) o valor\n",
        "# (regresión).\n",
        "\n",
        "# Cuando hablamos de Deep Learning nos referimos a que el modelo posee más de\n",
        "# una capa oculta."
      ]
    },
    {
      "cell_type": "code",
      "source": [
        "from sklearn.datasets import load_breast_cancer\n",
        "from sklearn.model_selection import train_test_split\n",
        "from sklearn.preprocessing import StandardScaler\n",
        "from sklearn.neural_network import MLPClassifier\n",
        "from sklearn.metrics import classification_report, confusion_matrix"
      ],
      "metadata": {
        "id": "A6DmEmSHs7_8"
      },
      "execution_count": 1,
      "outputs": []
    },
    {
      "cell_type": "code",
      "source": [
        "data = load_breast_cancer()\n",
        "X, y = data.data, data.target\n",
        "X_train, X_test, y_train, y_test = train_test_split(X, y, test_size=0.2, random_state=42, stratify=y)"
      ],
      "metadata": {
        "id": "6N6lUKNS9ejb"
      },
      "execution_count": 4,
      "outputs": []
    },
    {
      "cell_type": "code",
      "source": [
        "from sklearn.pipeline import Pipeline"
      ],
      "metadata": {
        "id": "LBfCTcH39loq"
      },
      "execution_count": 3,
      "outputs": []
    },
    {
      "cell_type": "code",
      "source": [
        "# Notemos que las neuronas en las capas ocultas toman combinaciones lineales\n",
        "# necesitamos estandarizar los datos para que todos tengan la misma dimension\n",
        "# y así no hayan algunos que predominen sobre otros.\n",
        "\n",
        "pipe_mlp = Pipeline([\n",
        "    ('scaler', StandardScaler()),\n",
        "    ('mlp', MLPClassifier(hidden_layer_sizes=(30, 10), # Capas a utilizar\n",
        "                                                       # 30 abajo y 10 al lado\n",
        "                          max_iter=1000,\n",
        "                          random_state=42,\n",
        "                          solver = 'adam', # Optimizacion\n",
        "                          activation='relu')) # Funcion de activacion\n",
        "])\n",
        "\n",
        "# Los diferentes metodos de optimizacion (estamos minimizando el error luego de\n",
        "# cada epoca) dentro de la librería MLPClassifier son:\n",
        "\n",
        "# adam (opcion por defecto) : Robusto, se parte probando con este\n",
        "# sgd : Se recomienda para hacer investigacion\n",
        "# lbfgs : Para datasets pequeños y sin ruido"
      ],
      "metadata": {
        "id": "taT3rN-39zXY"
      },
      "execution_count": 6,
      "outputs": []
    },
    {
      "cell_type": "code",
      "source": [
        "# Entrenamiento\n",
        "pipe_mlp.fit(X_train, y_train)\n",
        "\n",
        "# Prediccion\n",
        "y_pred_mlp = pipe_mlp.predict(X_test)\n",
        "\n",
        "# Metricas\n",
        "print(confusion_matrix(y_test, y_pred_mlp))\n",
        "print(classification_report(y_test, y_pred_mlp))"
      ],
      "metadata": {
        "colab": {
          "base_uri": "https://localhost:8080/"
        },
        "id": "Vh2igcTV-QFh",
        "outputId": "44175d0b-276d-4aa1-cc0b-19f187500020"
      },
      "execution_count": 7,
      "outputs": [
        {
          "output_type": "stream",
          "name": "stdout",
          "text": [
            "[[41  1]\n",
            " [ 3 69]]\n",
            "              precision    recall  f1-score   support\n",
            "\n",
            "           0       0.93      0.98      0.95        42\n",
            "           1       0.99      0.96      0.97        72\n",
            "\n",
            "    accuracy                           0.96       114\n",
            "   macro avg       0.96      0.97      0.96       114\n",
            "weighted avg       0.97      0.96      0.97       114\n",
            "\n"
          ]
        }
      ]
    }
  ]
}