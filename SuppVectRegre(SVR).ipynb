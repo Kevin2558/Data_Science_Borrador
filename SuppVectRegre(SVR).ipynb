{
  "nbformat": 4,
  "nbformat_minor": 0,
  "metadata": {
    "colab": {
      "provenance": [],
      "authorship_tag": "ABX9TyMUbnCvy6CUo5EhWxcGcL0z",
      "include_colab_link": true
    },
    "kernelspec": {
      "name": "python3",
      "display_name": "Python 3"
    },
    "language_info": {
      "name": "python"
    }
  },
  "cells": [
    {
      "cell_type": "markdown",
      "metadata": {
        "id": "view-in-github",
        "colab_type": "text"
      },
      "source": [
        "<a href=\"https://colab.research.google.com/github/Kevin2558/Data_Science/blob/main/SuppVectRegre(SVR).ipynb\" target=\"_parent\"><img src=\"https://colab.research.google.com/assets/colab-badge.svg\" alt=\"Open In Colab\"/></a>"
      ]
    },
    {
      "cell_type": "code",
      "execution_count": 1,
      "metadata": {
        "id": "uAfRIawwNnWA"
      },
      "outputs": [],
      "source": [
        "import matplotlib.pyplot as plt\n",
        "from sklearn.preprocessing import StandardScaler, RobustScaler\n",
        "import pandas as pd\n",
        "from sklearn.pipeline import Pipeline\n",
        "from sklearn.model_selection import train_test_split\n",
        "from sklearn.compose import ColumnTransformer\n",
        "from sklearn.decomposition import PCA\n",
        "from sklearn.preprocessing import OneHotEncoder"
      ]
    },
    {
      "cell_type": "code",
      "source": [
        "import kagglehub\n",
        "\n",
        "# Download latest version\n",
        "path = kagglehub.dataset_download(\"harlfoxem/housesalesprediction\")\n",
        "\n",
        "print(\"Path to dataset files:\", path)"
      ],
      "metadata": {
        "colab": {
          "base_uri": "https://localhost:8080/"
        },
        "id": "qdNDaTDEOdc8",
        "outputId": "9a954cb5-74d7-429d-f866-12bab3e0ffb3"
      },
      "execution_count": 2,
      "outputs": [
        {
          "output_type": "stream",
          "name": "stdout",
          "text": [
            "Path to dataset files: /kaggle/input/housesalesprediction\n"
          ]
        }
      ]
    },
    {
      "cell_type": "code",
      "source": [
        "df = pd.read_csv(path + \"/kc_house_data.csv\")"
      ],
      "metadata": {
        "id": "SI_JVXxhOh-r"
      },
      "execution_count": 3,
      "outputs": []
    },
    {
      "cell_type": "code",
      "source": [
        "num = [\"sqft_living\", \"bathrooms\", \"lat\", \"long\", \"sqft_lot\", \"bedrooms\", \"yr_built\"]\n",
        "cat = [\"zipcode\", \"waterfront\", \"condition\", \"grade\"]"
      ],
      "metadata": {
        "id": "5MPGtMKeOkl9"
      },
      "execution_count": 4,
      "outputs": []
    },
    {
      "cell_type": "code",
      "source": [
        "X = df[num + cat]\n",
        "y = df[\"price\"]"
      ],
      "metadata": {
        "id": "wuoROvnAOmuV"
      },
      "execution_count": 5,
      "outputs": []
    },
    {
      "cell_type": "code",
      "source": [
        "X_tr,X_te,y_tr,y_te = train_test_split(X,y,test_size=0.2,random_state=42)"
      ],
      "metadata": {
        "id": "F0jalG33OoBB"
      },
      "execution_count": 6,
      "outputs": []
    },
    {
      "cell_type": "code",
      "source": [
        "prep = ColumnTransformer([\n",
        "    (\"num\", RobustScaler(), num),\n",
        "    (\"cat\", OneHotEncoder(), cat)\n",
        "])"
      ],
      "metadata": {
        "id": "DAkKy64DOrJB"
      },
      "execution_count": 7,
      "outputs": []
    },
    {
      "cell_type": "code",
      "source": [
        "from sklearn.svm import SVR"
      ],
      "metadata": {
        "id": "eDNnuLMaO3PN"
      },
      "execution_count": 8,
      "outputs": []
    },
    {
      "cell_type": "code",
      "source": [
        "# Construimos el modelo Support Vector Regressor\n",
        "svr = Pipeline([\n",
        "    (\"prep\", prep),\n",
        "    (\"model\", SVR(\n",
        "        kernel=\"poly\",\n",
        "        C=10, # Parametro de regularizacion\n",
        "        epsilon=0.01, # Tolerancia,\n",
        "        gamma=\"scale\" # Parametro de kernel\n",
        "    ))\n",
        "])"
      ],
      "metadata": {
        "id": "7tTd_fKRO6lE"
      },
      "execution_count": 12,
      "outputs": []
    },
    {
      "cell_type": "code",
      "source": [
        "# Metricas\n",
        "\n",
        "from sklearn.metrics import mean_squared_error as mse\n",
        "from sklearn.metrics import r2_score\n",
        "import numpy as np\n",
        "\n",
        "def rmse(y_true, y_pred):\n",
        "    return np.sqrt(mse(y_true, y_pred))"
      ],
      "metadata": {
        "id": "_k8cpxgGQoZ5"
      },
      "execution_count": 14,
      "outputs": []
    },
    {
      "cell_type": "code",
      "source": [
        "# Procedemos a aplicar el modelo\n",
        "\n",
        "svr.fit(X_tr,y_tr)\n",
        "pred_svr = svr.predict(X_te)\n",
        "print(\"RMSE:\", rmse(y_te, pred_svr))\n",
        "print(\"r2_score:\", r2_score(y_te, pred_svr))\n",
        "\n",
        "# En este caso no funcionó"
      ],
      "metadata": {
        "colab": {
          "base_uri": "https://localhost:8080/"
        },
        "id": "VcwwVl3LPma0",
        "outputId": "45c538f8-dc2f-481e-d174-265902b0e938"
      },
      "execution_count": 15,
      "outputs": [
        {
          "output_type": "stream",
          "name": "stdout",
          "text": [
            "RMSE: 403822.0885114913\n",
            "r2_score: -0.07868650359795493\n"
          ]
        }
      ]
    },
    {
      "cell_type": "code",
      "source": [
        "# Probemos con otros hiperparametros\n",
        "\n",
        "svr = Pipeline([\n",
        "    (\"prep\", prep),\n",
        "    (\"model\", SVR(\n",
        "        kernel=\"rbf\",\n",
        "        C=100, # Parametro de regularizacion\n",
        "        epsilon=0.01, # Tolerancia,\n",
        "        gamma=\"scale\" # Parametro de kernel\n",
        "    ))\n",
        "])\n",
        "\n",
        "svr.fit(X_tr,y_tr)\n",
        "pred_svr = svr.predict(X_te)\n",
        "print(\"RMSE:\", rmse(y_te, pred_svr))\n",
        "print(\"r2_score:\", r2_score(y_te, pred_svr))\n",
        "\n",
        "# La prediccion en este caso es realmente mala"
      ],
      "metadata": {
        "colab": {
          "base_uri": "https://localhost:8080/"
        },
        "id": "HLfynK9JQMQl",
        "outputId": "25c8d0eb-8b14-451b-c750-a3c80cb9b801"
      },
      "execution_count": 16,
      "outputs": [
        {
          "output_type": "stream",
          "name": "stdout",
          "text": [
            "RMSE: 382808.7319658623\n",
            "r2_score: 0.03065410616730102\n"
          ]
        }
      ]
    }
  ]
}