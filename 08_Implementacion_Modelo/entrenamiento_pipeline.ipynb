{
 "cells": [
  {
   "cell_type": "code",
   "execution_count": null,
   "metadata": {},
   "outputs": [],
   "source": [
    "from sklearn.pipeline import Pipeline\n",
    "from sklearn.preprocessing import StandardScaler\n",
    "from sklearn.linear_model import LogisticRegression\n",
    "from sklearn.model_selection import train_test_split\n",
    "from sklearn.datasets import load_breast_cancer\n",
    "import joblib\n",
    "\n",
    "# Cargar dataset de ejemplo\n",
    "X, y = load_breast_cancer(return_X_y=True)\n",
    "X_train, X_test, y_train, y_test = train_test_split(X, y, test_size=0.2, random_state=42)\n",
    "\n",
    "# Crear pipeline\n",
    "pipeline = Pipeline([\n",
    "    ('scaler', StandardScaler()),\n",
    "    ('model', LogisticRegression(solver='liblinear'))\n",
    "])\n",
    "\n",
    "# Entrenar modelo\n",
    "pipeline.fit(X_train, y_train)\n",
    "\n",
    "# Guardar el modelo entrenado\n",
    "joblib.dump(pipeline, 'modelo_entrenado.joblib')\n",
    "print(\"Modelo guardado como 'modelo_entrenado.joblib'\")"
   ]
  }
 ],
 "metadata": {},
 "nbformat": 4,
 "nbformat_minor": 2
}