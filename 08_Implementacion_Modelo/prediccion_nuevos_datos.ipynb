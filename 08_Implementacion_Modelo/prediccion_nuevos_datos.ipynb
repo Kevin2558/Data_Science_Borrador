{
 "cells": [
  {
   "cell_type": "code",
   "execution_count": null,
   "metadata": {},
   "outputs": [],
   "source": [
    "import joblib\n",
    "import pandas as pd\n",
    "from sklearn.datasets import load_breast_cancer\n",
    "\n",
    "# Cargar el modelo entrenado\n",
    "modelo = joblib.load('modelo_entrenado.joblib')\n",
    "print(\"Modelo cargado correctamente\")\n",
    "\n",
    "# Obtener nombres de columnas\n",
    "data = load_breast_cancer()\n",
    "columnas = data.feature_names\n",
    "\n",
    "# Crear un nuevo punto de prueba\n",
    "nuevos_datos = pd.DataFrame([\n",
    "    [14.5, 20.0, 95.0, 600.0, 0.1, 0.2, 0.1, 0.05, 0.2, 0.06,\n",
    "     0.4, 1.0, 3.0, 40.0, 0.007, 0.02, 0.03, 0.01, 0.01, 0.005,\n",
    "     16.0, 25.0, 110.0, 800.0, 0.14, 0.3, 0.2, 0.07, 0.3, 0.08]\n",
    "], columns=columnas)\n",
    "\n",
    "# Realizar la predicción\n",
    "prediccion = modelo.predict(nuevos_datos)\n",
    "print(f\"Predicción del modelo: {prediccion[0]}\")"
   ]
  }
 ],
 "metadata": {},
 "nbformat": 4,
 "nbformat_minor": 2
}