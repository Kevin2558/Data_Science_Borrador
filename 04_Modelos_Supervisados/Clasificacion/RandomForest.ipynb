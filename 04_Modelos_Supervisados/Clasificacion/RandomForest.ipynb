{
 "cells": [
  {
   "cell_type": "code",
   "execution_count": null,
   "id": "b30a788f",
   "metadata": {
    "id": "jpwAgyeu_KIX"
   },
   "outputs": [],
   "source": [
    "pipe_rf = Pipeline([\n",
    "    ('scaler', RobustScaler()),\n",
    "    ('rf', RandomForestClassifier(random_state=42,\n",
    "                                  n_estimators=100,\n",
    "                                  max_depth=None,\n",
    "                                  max_features='sqrt'\n",
    "                                  ))\n",
    "])"
   ]
  },
  {
   "cell_type": "code",
   "execution_count": null,
   "id": "a769b407",
   "metadata": {
    "colab": {
     "base_uri": "https://localhost:8080/"
    },
    "id": "MPlyByCvAKYi",
    "outputId": "8f4f6855-9d37-454b-d6f8-2d369f769b28"
   },
   "outputs": [
    {
     "name": "stdout",
     "output_type": "stream",
     "text": [
      "[[40  3]\n",
      " [ 1 70]]\n",
      "              precision    recall  f1-score   support\n",
      "\n",
      "           0       0.98      0.93      0.95        43\n",
      "           1       0.96      0.99      0.97        71\n",
      "\n",
      "    accuracy                           0.96       114\n",
      "   macro avg       0.97      0.96      0.96       114\n",
      "weighted avg       0.97      0.96      0.96       114\n",
      "\n"
     ]
    }
   ],
   "source": [
    "pipe_rf.fit(X_tr, y_tr)\n",
    "y_pred_rf = pipe_rf.predict(X_te)\n",
    "print(confusion_matrix(y_te, y_pred_rf))\n",
    "print(classification_report(y_te, y_pred_rf))\n",
    "\n",
    "# Este es el caso que más se acerca a los buenas metricas de la regresión\n",
    "# logistica."
   ]
  }
 ],
 "metadata": {},
 "nbformat": 4,
 "nbformat_minor": 5
}
