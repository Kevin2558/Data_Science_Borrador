{
 "cells": [
  {
   "cell_type": "code",
   "execution_count": null,
   "id": "1405ecfd",
   "metadata": {
    "id": "BStcWGey-_jI"
   },
   "outputs": [],
   "source": [
    "pipe_dt = Pipeline([\n",
    "    ('scaler', RobustScaler()),\n",
    "    ('dt', DecisionTreeClassifier(random_state=42,\n",
    "                                  max_depth=5\n",
    "                                  ))\n",
    "])"
   ]
  },
  {
   "cell_type": "code",
   "execution_count": null,
   "id": "962fcc3a",
   "metadata": {
    "colab": {
     "base_uri": "https://localhost:8080/"
    },
    "id": "5M9Se-4r_Gpc",
    "outputId": "7f481f59-ffcf-4f90-bff0-5b35918cdf0b"
   },
   "outputs": [
    {
     "name": "stdout",
     "output_type": "stream",
     "text": [
      "[[40  3]\n",
      " [ 3 68]]\n",
      "              precision    recall  f1-score   support\n",
      "\n",
      "           0       0.93      0.93      0.93        43\n",
      "           1       0.96      0.96      0.96        71\n",
      "\n",
      "    accuracy                           0.95       114\n",
      "   macro avg       0.94      0.94      0.94       114\n",
      "weighted avg       0.95      0.95      0.95       114\n",
      "\n"
     ]
    }
   ],
   "source": [
    "pipe_dt.fit(X_tr, y_tr)\n",
    "y_pred_dt = pipe_dt.predict(X_te)\n",
    "print(confusion_matrix(y_te, y_pred_dt))\n",
    "print(classification_report(y_te, y_pred_dt))"
   ]
  }
 ],
 "metadata": {},
 "nbformat": 4,
 "nbformat_minor": 5
}
